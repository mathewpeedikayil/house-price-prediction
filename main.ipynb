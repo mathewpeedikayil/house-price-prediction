{
 "cells": [
  {
   "cell_type": "markdown",
   "id": "4f7af85b",
   "metadata": {},
   "source": [
    "# House Price Prediction"
   ]
  },
  {
   "cell_type": "markdown",
   "id": "c3a2c3ef",
   "metadata": {},
   "source": [
    "## References"
   ]
  },
  {
   "cell_type": "markdown",
   "id": "c639d3f7",
   "metadata": {},
   "source": [
    "- Linear Regression in Machine Learning\n",
    "    - https://www.analyticsvidhya.com/blog/2021/10/everything-you-need-to-know-about-linear-regression/\n",
    "\n",
    "- House Price Prediction: A Simple Guide with Scikit-Learn and Linear Regression\n",
    "    - https://medium.com/@kaushiksimran827/house-price-prediction-a-simple-guide-with-scikit-learn-and-linear-regression-f91a27b9d650"
   ]
  },
  {
   "cell_type": "markdown",
   "id": "6252b59c",
   "metadata": {},
   "source": []
  }
 ],
 "metadata": {
  "language_info": {
   "name": "python"
  }
 },
 "nbformat": 4,
 "nbformat_minor": 5
}
