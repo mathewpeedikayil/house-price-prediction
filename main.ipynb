{
 "cells": [
  {
   "cell_type": "markdown",
   "id": "4f7af85b",
   "metadata": {},
   "source": [
    "# House Price Prediction"
   ]
  }
 ],
 "metadata": {
  "language_info": {
   "name": "python"
  }
 },
 "nbformat": 4,
 "nbformat_minor": 5
}
